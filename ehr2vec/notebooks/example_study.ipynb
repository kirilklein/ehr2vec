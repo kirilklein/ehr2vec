{
 "cells": [
  {
   "cell_type": "code",
   "execution_count": 2,
   "metadata": {},
   "outputs": [],
   "source": [
    "import pandas as pd\n",
    "from os.path import join\n",
    "\n",
    "\n",
    "data_dir = r'C:\\Users\\fjn197\\PhD\\projects\\PHAIR\\pipelines\\ehr_preprocess\\ehr_preprocess\\formatted_data\\synthea5000'\n",
    "diag = pd.read_csv(join(data_dir, 'concept.diagnose.csv'))\n",
    "med = pd.read_csv(join(data_dir, 'concept.medication.csv'))"
   ]
  },
  {
   "cell_type": "code",
   "execution_count": 69,
   "metadata": {},
   "outputs": [],
   "source": [
    "diag_full = pd.read_csv(r'C:\\Users\\fjn197\\PhD\\projects\\PHAIR\\pipelines\\synthea\\output\\synthea5000\\csv\\conditions.csv')"
   ]
  },
  {
   "cell_type": "code",
   "execution_count": 86,
   "metadata": {},
   "outputs": [],
   "source": [
    "def search_by_name(df, name):\n",
    "    mask = df.DESCRIPTION.str.lower().str.contains(name.lower())\n",
    "    # get a dictionary of unique descriptions to their codes\n",
    "    masked_df= df.loc[mask, ['DESCRIPTION', 'CODE']].drop_duplicates()\n",
    "    return dict(zip(masked_df.DESCRIPTION, masked_df.CODE))\n",
    "    "
   ]
  },
  {
   "cell_type": "code",
   "execution_count": 105,
   "metadata": {},
   "outputs": [
    {
     "name": "stdout",
     "output_type": "stream",
     "text": [
      "{}\n"
     ]
    }
   ],
   "source": [
    "heart_disease = search_by_name(diag_full, 'heart')\n",
    "stroke = search_by_name(diag_full, 'stroke')\n",
    "infarction = search_by_name(diag_full, 'infarction')\n",
    "tvr = search_by_name(diag_full, 'revascularization')\n",
    "print(tvr)"
   ]
  },
  {
   "cell_type": "markdown",
   "metadata": {},
   "source": [
    "## Examine MACE outcomes"
   ]
  },
  {
   "cell_type": "code",
   "execution_count": 101,
   "metadata": {},
   "outputs": [
    {
     "name": "stdout",
     "output_type": "stream",
     "text": [
      "D22298006 number of patients 143 number of events 143\n",
      "D230690007 number of patients 39 number of events 39\n",
      "D4557003 number of patients 13 number of events 13\n",
      "D84114007 number of patients 8 number of events 8\n",
      "D414545008 number of patients 1097 number of events 1097\n",
      "D230690007 number of patients 39 number of events 39\n",
      "D401303003 number of patients 139 number of events 139\n",
      "D401314000 number of patients 152 number of events 152\n",
      "D22298006 number of patients 143 number of events 143\n"
     ]
    }
   ],
   "source": [
    "mace_codes = [22298006, 230690007,  4557003, 84114007, 414545008,\n",
    "              230690007, 401303003, 401314000, 22298006\n",
    "              \n",
    "              ]\n",
    "mace_codes = ['D' + str(x) for x in mace_codes]\n",
    "mace_pids = []\n",
    "for mace_code in mace_codes:\n",
    "    print(mace_code, end=' ')\n",
    "    mace_df = diag[diag['CONCEPT'] == mace_code]\n",
    "    print('number of patients', mace_df.PID.nunique(), end=' ')\n",
    "    print('number of events', mace_df.shape[0],)\n",
    "    mace_pids.extend(mace_df.PID.unique())"
   ]
  },
  {
   "cell_type": "code",
   "execution_count": 59,
   "metadata": {},
   "outputs": [
    {
     "data": {
      "text/plain": [
       "D237602007         1172\n",
       "D274531002         1104\n",
       "D414545008         1097\n",
       "D80583007          1010\n",
       "D19169002          1004\n",
       "D278860009         1002\n",
       "D127013003         1000\n",
       "D431855005          960\n",
       "D25675004           902\n",
       "D125605004          879\n",
       "D312608009          876\n",
       "D43878008           875\n",
       "D90781000119102     873\n",
       "D65363002           856\n",
       "D384709000          844\n",
       "Name: CONCEPT, dtype: int64"
      ]
     },
     "execution_count": 59,
     "metadata": {},
     "output_type": "execute_result"
    }
   ],
   "source": [
    "diag.CONCEPT.value_counts()[25:40]"
   ]
  },
  {
   "cell_type": "markdown",
   "metadata": {},
   "source": [
    "## Examine statin codes"
   ]
  },
  {
   "cell_type": "code",
   "execution_count": 18,
   "metadata": {},
   "outputs": [
    {
     "data": {
      "text/html": [
       "<div>\n",
       "<style scoped>\n",
       "    .dataframe tbody tr th:only-of-type {\n",
       "        vertical-align: middle;\n",
       "    }\n",
       "\n",
       "    .dataframe tbody tr th {\n",
       "        vertical-align: top;\n",
       "    }\n",
       "\n",
       "    .dataframe thead th {\n",
       "        text-align: right;\n",
       "    }\n",
       "</style>\n",
       "<table border=\"1\" class=\"dataframe\">\n",
       "  <thead>\n",
       "    <tr style=\"text-align: right;\">\n",
       "      <th></th>\n",
       "      <th>TIMESTAMP</th>\n",
       "      <th>PID</th>\n",
       "      <th>ADMISSION_ID</th>\n",
       "      <th>CONCEPT</th>\n",
       "    </tr>\n",
       "  </thead>\n",
       "  <tbody>\n",
       "    <tr>\n",
       "      <th>0</th>\n",
       "      <td>1914-06-14T14:58:43Z</td>\n",
       "      <td>e7aec45f-9052-e274-ce16-2b9cb676e533</td>\n",
       "      <td>298ab82a-dc57-6ea2-5ce8-39bf30f67b37</td>\n",
       "      <td>M243670</td>\n",
       "    </tr>\n",
       "    <tr>\n",
       "      <th>1</th>\n",
       "      <td>1915-05-11T18:48:54Z</td>\n",
       "      <td>92f53d3d-aacf-6726-56bd-b76227f88357</td>\n",
       "      <td>d5554bf0-6416-af56-431f-aafdd3922922</td>\n",
       "      <td>M243670</td>\n",
       "    </tr>\n",
       "    <tr>\n",
       "      <th>2</th>\n",
       "      <td>1915-08-20T02:06:38Z</td>\n",
       "      <td>a423cc04-f042-111e-fc70-6570cc3122fb</td>\n",
       "      <td>76e19af4-deb9-a920-e377-40797d0083f9</td>\n",
       "      <td>M243670</td>\n",
       "    </tr>\n",
       "    <tr>\n",
       "      <th>3</th>\n",
       "      <td>1915-11-24T08:40:05Z</td>\n",
       "      <td>e394980d-e61b-df87-27a5-73894358c04b</td>\n",
       "      <td>93d05ad6-76de-7185-d877-ef86d450488e</td>\n",
       "      <td>M243670</td>\n",
       "    </tr>\n",
       "    <tr>\n",
       "      <th>4</th>\n",
       "      <td>1916-05-01T02:06:38Z</td>\n",
       "      <td>a423cc04-f042-111e-fc70-6570cc3122fb</td>\n",
       "      <td>803b0247-5d08-89f7-07f7-b716df21c880</td>\n",
       "      <td>M243670</td>\n",
       "    </tr>\n",
       "    <tr>\n",
       "      <th>...</th>\n",
       "      <td>...</td>\n",
       "      <td>...</td>\n",
       "      <td>...</td>\n",
       "      <td>...</td>\n",
       "    </tr>\n",
       "    <tr>\n",
       "      <th>646975</th>\n",
       "      <td>2024-06-27T03:35:55Z</td>\n",
       "      <td>38b6be96-d490-da03-db7a-599feaa4b184</td>\n",
       "      <td>e0a5ae38-5459-c213-6481-336c36867f3b</td>\n",
       "      <td>M308136</td>\n",
       "    </tr>\n",
       "    <tr>\n",
       "      <th>646976</th>\n",
       "      <td>2024-06-27T04:21:24Z</td>\n",
       "      <td>ac4afdcb-132d-6f59-8ea1-a2c896af50bd</td>\n",
       "      <td>44e00872-d7c8-ac77-2284-d7de2fdb155e</td>\n",
       "      <td>M308136</td>\n",
       "    </tr>\n",
       "    <tr>\n",
       "      <th>646977</th>\n",
       "      <td>2024-06-27T04:21:24Z</td>\n",
       "      <td>ac4afdcb-132d-6f59-8ea1-a2c896af50bd</td>\n",
       "      <td>44e00872-d7c8-ac77-2284-d7de2fdb155e</td>\n",
       "      <td>M106892</td>\n",
       "    </tr>\n",
       "    <tr>\n",
       "      <th>646978</th>\n",
       "      <td>2024-06-27T04:21:24Z</td>\n",
       "      <td>ac4afdcb-132d-6f59-8ea1-a2c896af50bd</td>\n",
       "      <td>44e00872-d7c8-ac77-2284-d7de2fdb155e</td>\n",
       "      <td>M856987</td>\n",
       "    </tr>\n",
       "    <tr>\n",
       "      <th>646979</th>\n",
       "      <td>2024-06-27T04:21:24Z</td>\n",
       "      <td>ac4afdcb-132d-6f59-8ea1-a2c896af50bd</td>\n",
       "      <td>44e00872-d7c8-ac77-2284-d7de2fdb155e</td>\n",
       "      <td>M314076</td>\n",
       "    </tr>\n",
       "  </tbody>\n",
       "</table>\n",
       "<p>646980 rows × 4 columns</p>\n",
       "</div>"
      ],
      "text/plain": [
       "                   TIMESTAMP                                   PID  \\\n",
       "0       1914-06-14T14:58:43Z  e7aec45f-9052-e274-ce16-2b9cb676e533   \n",
       "1       1915-05-11T18:48:54Z  92f53d3d-aacf-6726-56bd-b76227f88357   \n",
       "2       1915-08-20T02:06:38Z  a423cc04-f042-111e-fc70-6570cc3122fb   \n",
       "3       1915-11-24T08:40:05Z  e394980d-e61b-df87-27a5-73894358c04b   \n",
       "4       1916-05-01T02:06:38Z  a423cc04-f042-111e-fc70-6570cc3122fb   \n",
       "...                      ...                                   ...   \n",
       "646975  2024-06-27T03:35:55Z  38b6be96-d490-da03-db7a-599feaa4b184   \n",
       "646976  2024-06-27T04:21:24Z  ac4afdcb-132d-6f59-8ea1-a2c896af50bd   \n",
       "646977  2024-06-27T04:21:24Z  ac4afdcb-132d-6f59-8ea1-a2c896af50bd   \n",
       "646978  2024-06-27T04:21:24Z  ac4afdcb-132d-6f59-8ea1-a2c896af50bd   \n",
       "646979  2024-06-27T04:21:24Z  ac4afdcb-132d-6f59-8ea1-a2c896af50bd   \n",
       "\n",
       "                                ADMISSION_ID  CONCEPT  \n",
       "0       298ab82a-dc57-6ea2-5ce8-39bf30f67b37  M243670  \n",
       "1       d5554bf0-6416-af56-431f-aafdd3922922  M243670  \n",
       "2       76e19af4-deb9-a920-e377-40797d0083f9  M243670  \n",
       "3       93d05ad6-76de-7185-d877-ef86d450488e  M243670  \n",
       "4       803b0247-5d08-89f7-07f7-b716df21c880  M243670  \n",
       "...                                      ...      ...  \n",
       "646975  e0a5ae38-5459-c213-6481-336c36867f3b  M308136  \n",
       "646976  44e00872-d7c8-ac77-2284-d7de2fdb155e  M308136  \n",
       "646977  44e00872-d7c8-ac77-2284-d7de2fdb155e  M106892  \n",
       "646978  44e00872-d7c8-ac77-2284-d7de2fdb155e  M856987  \n",
       "646979  44e00872-d7c8-ac77-2284-d7de2fdb155e  M314076  \n",
       "\n",
       "[646980 rows x 4 columns]"
      ]
     },
     "execution_count": 18,
     "metadata": {},
     "output_type": "execute_result"
    }
   ],
   "source": [
    "med"
   ]
  },
  {
   "cell_type": "code",
   "execution_count": 31,
   "metadata": {},
   "outputs": [
    {
     "name": "stdout",
     "output_type": "stream",
     "text": [
      "M617312\n",
      "number of patients 42\n",
      "number of events 42\n",
      "M312961\n",
      "number of patients 897\n",
      "number of events 897\n",
      "M312962\n",
      "number of patients 1\n",
      "number of events 1\n",
      "M19821\n",
      "number of patients 23\n",
      "number of events 23\n",
      "M7597\n",
      "number of patients 0\n",
      "number of events 0\n",
      "M34482\n",
      "number of patients 0\n",
      "number of events 0\n"
     ]
    }
   ],
   "source": [
    "statin_codes = [617312, 312961,312962, 19821, 7597, 34482]\n",
    "statin_codes = ['M' + str(x) for x in statin_codes]\n",
    "for statin_code in statin_codes:\n",
    "    print(statin_code)\n",
    "    print('number of patients', med[med['CONCEPT'].str.startswith(statin_code)].PID.nunique())\n",
    "    print('number of events', med[med['CONCEPT'].str.startswith(statin_code)].shape[0])"
   ]
  },
  {
   "cell_type": "markdown",
   "metadata": {},
   "source": [
    "We will take M312961 (Simvastatin) as an example since that is quite often used."
   ]
  },
  {
   "cell_type": "code",
   "execution_count": 38,
   "metadata": {},
   "outputs": [
    {
     "name": "stdout",
     "output_type": "stream",
     "text": [
      "M312961\n",
      "number of patients 897\n",
      "number of events 897\n",
      "M312962\n",
      "number of patients 1\n",
      "number of events 1\n",
      "M1189803\n",
      "number of patients 0\n",
      "number of events 0\n",
      "M484211\n",
      "number of patients 0\n",
      "number of events 0\n",
      "M1430892\n",
      "number of patients 0\n",
      "number of events 0\n",
      "M803516\n",
      "number of patients 0\n",
      "number of events 0\n"
     ]
    }
   ],
   "source": [
    "simvastatin_codes = [312961, 312962, 1189803, 484211, 1430892, 803516]\n",
    "simvastatin_codes = ['M' + str(x) for x in simvastatin_codes]\n",
    "simvastatin_pids = []\n",
    "for statin_code in simvastatin_codes:\n",
    "    print(statin_code)\n",
    "    simvastatin_df = med[med['CONCEPT']==statin_code]\n",
    "    print('number of patients', simvastatin_df.PID.nunique())\n",
    "    print('number of events', simvastatin_df.shape[0])\n",
    "    simvastatin_pids.extend(simvastatin_df.PID.unique())"
   ]
  },
  {
   "cell_type": "code",
   "execution_count": 39,
   "metadata": {},
   "outputs": [
    {
     "name": "stdout",
     "output_type": "stream",
     "text": [
      "number of patients with MACE 198\n",
      "number of patients with simvastatin 897\n",
      "number of patients with both 88\n"
     ]
    }
   ],
   "source": [
    "print('number of patients with MACE', len(set(mace_pids)))\n",
    "print('number of patients with simvastatin', len(set(simvastatin_pids)))\n",
    "print('number of patients with both', len(set(mace_pids).intersection(set(simvastatin_pids))) )"
   ]
  }
 ],
 "metadata": {
  "kernelspec": {
   "display_name": "patbert",
   "language": "python",
   "name": "python3"
  },
  "language_info": {
   "codemirror_mode": {
    "name": "ipython",
    "version": 3
   },
   "file_extension": ".py",
   "mimetype": "text/x-python",
   "name": "python",
   "nbconvert_exporter": "python",
   "pygments_lexer": "ipython3",
   "version": "3.10.13"
  }
 },
 "nbformat": 4,
 "nbformat_minor": 2
}
